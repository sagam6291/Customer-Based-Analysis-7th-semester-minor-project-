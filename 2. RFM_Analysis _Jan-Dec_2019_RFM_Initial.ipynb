{
 "cells": [
  {
   "cell_type": "markdown",
   "metadata": {},
   "source": [
    "## Importing the required library "
   ]
  },
  {
   "cell_type": "code",
   "execution_count": 1,
   "metadata": {},
   "outputs": [],
   "source": [
    "#import modules\n",
    "import pandas as pd # for dataframes\n",
    "import matplotlib.pyplot as plt # for plotting graphs\n",
    "import seaborn as sns # for plotting graphs\n",
    "import datetime as dt\n",
    "import squarify\n",
    "#Magical Command to execute multiple query in one row\n",
    "from IPython.core.interactiveshell import InteractiveShell\n",
    "InteractiveShell.ast_node_interactivity = \"all\"\n",
    "import warnings\n",
    "warnings.filterwarnings(\"ignore\")"
   ]
  },
  {
   "cell_type": "markdown",
   "metadata": {},
   "source": [
    "## Importing the data\n"
   ]
  },
  {
   "cell_type": "code",
   "execution_count": 2,
   "metadata": {},
   "outputs": [],
   "source": [
    "data = pd.read_csv(\"Jan - Dec 2019_RFM_Initial.csv\")"
   ]
  },
  {
   "cell_type": "markdown",
   "metadata": {},
   "source": [
    "## Exploratory Data Analysis"
   ]
  },
  {
   "cell_type": "markdown",
   "metadata": {},
   "source": [
    "#### 1. Checking top five data"
   ]
  },
  {
   "cell_type": "code",
   "execution_count": 3,
   "metadata": {},
   "outputs": [
    {
     "data": {
      "text/html": [
       "<div>\n",
       "<style scoped>\n",
       "    .dataframe tbody tr th:only-of-type {\n",
       "        vertical-align: middle;\n",
       "    }\n",
       "\n",
       "    .dataframe tbody tr th {\n",
       "        vertical-align: top;\n",
       "    }\n",
       "\n",
       "    .dataframe thead th {\n",
       "        text-align: right;\n",
       "    }\n",
       "</style>\n",
       "<table border=\"1\" class=\"dataframe\">\n",
       "  <thead>\n",
       "    <tr style=\"text-align: right;\">\n",
       "      <th></th>\n",
       "      <th>Customer_Name</th>\n",
       "      <th>Customer_ID</th>\n",
       "      <th>Order_No</th>\n",
       "      <th>Order_Date</th>\n",
       "      <th>Invoiced</th>\n",
       "      <th>SKU_Code</th>\n",
       "      <th>Quantity</th>\n",
       "      <th>City</th>\n",
       "    </tr>\n",
       "  </thead>\n",
       "  <tbody>\n",
       "    <tr>\n",
       "      <th>0</th>\n",
       "      <td>Natasha  Sethi</td>\n",
       "      <td>10993</td>\n",
       "      <td>M0110013</td>\n",
       "      <td>2019-08-22</td>\n",
       "      <td>1797.0</td>\n",
       "      <td>SWM17614C0512L</td>\n",
       "      <td>1</td>\n",
       "      <td>Gurgaon</td>\n",
       "    </tr>\n",
       "    <tr>\n",
       "      <th>1</th>\n",
       "      <td>Sneha Ganesan</td>\n",
       "      <td>6206</td>\n",
       "      <td>M0110014</td>\n",
       "      <td>2019-08-22</td>\n",
       "      <td>995.0</td>\n",
       "      <td>BRA72501C060636B</td>\n",
       "      <td>1</td>\n",
       "      <td>Mumbai</td>\n",
       "    </tr>\n",
       "  </tbody>\n",
       "</table>\n",
       "</div>"
      ],
      "text/plain": [
       "    Customer_Name  Customer_ID  Order_No  Order_Date  Invoiced  \\\n",
       "0  Natasha  Sethi        10993  M0110013  2019-08-22    1797.0   \n",
       "1   Sneha Ganesan         6206  M0110014  2019-08-22     995.0   \n",
       "\n",
       "           SKU_Code  Quantity     City  \n",
       "0    SWM17614C0512L         1  Gurgaon  \n",
       "1  BRA72501C060636B         1   Mumbai  "
      ]
     },
     "execution_count": 3,
     "metadata": {},
     "output_type": "execute_result"
    }
   ],
   "source": [
    "data.head(2)"
   ]
  },
  {
   "cell_type": "markdown",
   "metadata": {},
   "source": [
    "#### 2. Checking bottom five data"
   ]
  },
  {
   "cell_type": "code",
   "execution_count": 4,
   "metadata": {},
   "outputs": [
    {
     "data": {
      "text/html": [
       "<div>\n",
       "<style scoped>\n",
       "    .dataframe tbody tr th:only-of-type {\n",
       "        vertical-align: middle;\n",
       "    }\n",
       "\n",
       "    .dataframe tbody tr th {\n",
       "        vertical-align: top;\n",
       "    }\n",
       "\n",
       "    .dataframe thead th {\n",
       "        text-align: right;\n",
       "    }\n",
       "</style>\n",
       "<table border=\"1\" class=\"dataframe\">\n",
       "  <thead>\n",
       "    <tr style=\"text-align: right;\">\n",
       "      <th></th>\n",
       "      <th>Customer_Name</th>\n",
       "      <th>Customer_ID</th>\n",
       "      <th>Order_No</th>\n",
       "      <th>Order_Date</th>\n",
       "      <th>Invoiced</th>\n",
       "      <th>SKU_Code</th>\n",
       "      <th>Quantity</th>\n",
       "      <th>City</th>\n",
       "    </tr>\n",
       "  </thead>\n",
       "  <tbody>\n",
       "    <tr>\n",
       "      <th>19115</th>\n",
       "      <td>Arshpreet Kaur</td>\n",
       "      <td>2075</td>\n",
       "      <td>M02866</td>\n",
       "      <td>2019-12-17</td>\n",
       "      <td>1147.5</td>\n",
       "      <td>F0007C060934DD</td>\n",
       "      <td>1</td>\n",
       "      <td>Chandigaeh</td>\n",
       "    </tr>\n",
       "    <tr>\n",
       "      <th>19116</th>\n",
       "      <td>Nandita Dave</td>\n",
       "      <td>10952</td>\n",
       "      <td>M02870</td>\n",
       "      <td>2019-12-23</td>\n",
       "      <td>2295.0</td>\n",
       "      <td>E0006C000438DD</td>\n",
       "      <td>1</td>\n",
       "      <td>Kolkata</td>\n",
       "    </tr>\n",
       "  </tbody>\n",
       "</table>\n",
       "</div>"
      ],
      "text/plain": [
       "        Customer_Name  Customer_ID Order_No  Order_Date  Invoiced  \\\n",
       "19115  Arshpreet Kaur         2075   M02866  2019-12-17    1147.5   \n",
       "19116    Nandita Dave        10952   M02870  2019-12-23    2295.0   \n",
       "\n",
       "             SKU_Code  Quantity        City  \n",
       "19115  F0007C060934DD         1  Chandigaeh  \n",
       "19116  E0006C000438DD         1     Kolkata  "
      ]
     },
     "execution_count": 4,
     "metadata": {},
     "output_type": "execute_result"
    }
   ],
   "source": [
    "data.tail(2)"
   ]
  },
  {
   "cell_type": "markdown",
   "metadata": {},
   "source": [
    "#### 3. Statistics information about data"
   ]
  },
  {
   "cell_type": "code",
   "execution_count": 5,
   "metadata": {},
   "outputs": [
    {
     "data": {
      "text/html": [
       "<div>\n",
       "<style scoped>\n",
       "    .dataframe tbody tr th:only-of-type {\n",
       "        vertical-align: middle;\n",
       "    }\n",
       "\n",
       "    .dataframe tbody tr th {\n",
       "        vertical-align: top;\n",
       "    }\n",
       "\n",
       "    .dataframe thead th {\n",
       "        text-align: right;\n",
       "    }\n",
       "</style>\n",
       "<table border=\"1\" class=\"dataframe\">\n",
       "  <thead>\n",
       "    <tr style=\"text-align: right;\">\n",
       "      <th></th>\n",
       "      <th>Customer_ID</th>\n",
       "      <th>Invoiced</th>\n",
       "      <th>Quantity</th>\n",
       "    </tr>\n",
       "  </thead>\n",
       "  <tbody>\n",
       "    <tr>\n",
       "      <th>count</th>\n",
       "      <td>19117.000000</td>\n",
       "      <td>19117.000000</td>\n",
       "      <td>19117.000000</td>\n",
       "    </tr>\n",
       "    <tr>\n",
       "      <th>mean</th>\n",
       "      <td>10320.195114</td>\n",
       "      <td>793.912288</td>\n",
       "      <td>1.035466</td>\n",
       "    </tr>\n",
       "    <tr>\n",
       "      <th>std</th>\n",
       "      <td>6005.041538</td>\n",
       "      <td>511.413797</td>\n",
       "      <td>0.221981</td>\n",
       "    </tr>\n",
       "    <tr>\n",
       "      <th>min</th>\n",
       "      <td>2.000000</td>\n",
       "      <td>0.000000</td>\n",
       "      <td>1.000000</td>\n",
       "    </tr>\n",
       "    <tr>\n",
       "      <th>25%</th>\n",
       "      <td>4669.000000</td>\n",
       "      <td>495.000000</td>\n",
       "      <td>1.000000</td>\n",
       "    </tr>\n",
       "    <tr>\n",
       "      <th>50%</th>\n",
       "      <td>10453.000000</td>\n",
       "      <td>647.500000</td>\n",
       "      <td>1.000000</td>\n",
       "    </tr>\n",
       "    <tr>\n",
       "      <th>75%</th>\n",
       "      <td>15565.000000</td>\n",
       "      <td>990.000000</td>\n",
       "      <td>1.000000</td>\n",
       "    </tr>\n",
       "    <tr>\n",
       "      <th>max</th>\n",
       "      <td>20608.000000</td>\n",
       "      <td>6190.000000</td>\n",
       "      <td>8.000000</td>\n",
       "    </tr>\n",
       "  </tbody>\n",
       "</table>\n",
       "</div>"
      ],
      "text/plain": [
       "        Customer_ID      Invoiced      Quantity\n",
       "count  19117.000000  19117.000000  19117.000000\n",
       "mean   10320.195114    793.912288      1.035466\n",
       "std     6005.041538    511.413797      0.221981\n",
       "min        2.000000      0.000000      1.000000\n",
       "25%     4669.000000    495.000000      1.000000\n",
       "50%    10453.000000    647.500000      1.000000\n",
       "75%    15565.000000    990.000000      1.000000\n",
       "max    20608.000000   6190.000000      8.000000"
      ]
     },
     "execution_count": 5,
     "metadata": {},
     "output_type": "execute_result"
    }
   ],
   "source": [
    "data.describe()"
   ]
  },
  {
   "cell_type": "code",
   "execution_count": 6,
   "metadata": {
    "scrolled": true
   },
   "outputs": [
    {
     "name": "stdout",
     "output_type": "stream",
     "text": [
      "<class 'pandas.core.frame.DataFrame'>\n",
      "RangeIndex: 19117 entries, 0 to 19116\n",
      "Data columns (total 8 columns):\n",
      " #   Column         Non-Null Count  Dtype  \n",
      "---  ------         --------------  -----  \n",
      " 0   Customer_Name  19117 non-null  object \n",
      " 1   Customer_ID    19117 non-null  int64  \n",
      " 2   Order_No       19117 non-null  object \n",
      " 3   Order_Date     19117 non-null  object \n",
      " 4   Invoiced       19117 non-null  float64\n",
      " 5   SKU_Code       19117 non-null  object \n",
      " 6   Quantity       19117 non-null  int64  \n",
      " 7   City           19084 non-null  object \n",
      "dtypes: float64(1), int64(2), object(5)\n",
      "memory usage: 1.2+ MB\n"
     ]
    }
   ],
   "source": [
    "data.info()"
   ]
  },
  {
   "cell_type": "markdown",
   "metadata": {},
   "source": [
    "#### Box plot between customer name and invoce "
   ]
  },
  {
   "cell_type": "code",
   "execution_count": 7,
   "metadata": {},
   "outputs": [
    {
     "data": {
      "text/plain": [
       "<Figure size 1440x360 with 0 Axes>"
      ]
     },
     "execution_count": 7,
     "metadata": {},
     "output_type": "execute_result"
    },
    {
     "data": {
      "text/plain": [
       "<AxesSubplot:>"
      ]
     },
     "execution_count": 7,
     "metadata": {},
     "output_type": "execute_result"
    },
    {
     "data": {
      "text/plain": [
       "Text(0.5, 0, 'Numeric Features')"
      ]
     },
     "execution_count": 7,
     "metadata": {},
     "output_type": "execute_result"
    },
    {
     "data": {
      "text/plain": [
       "Text(0, 0.5, 'Values')"
      ]
     },
     "execution_count": 7,
     "metadata": {},
     "output_type": "execute_result"
    },
    {
     "data": {
      "image/png": "[encoded data removed]",
      "text/plain": [
       "<Figure size 1440x360 with 1 Axes>"
      ]
     },
     "metadata": {
      "needs_background": "light"
     },
     "output_type": "display_data"
    }
   ],
   "source": [
    "plt.figure(figsize=(20,5))\n",
    "sns.boxplot(data=data)\n",
    "plt.xlabel(\"Numeric Features\")\n",
    "plt.ylabel(\"Values\")"
   ]
  },
  {
   "cell_type": "code",
   "execution_count": 8,
   "metadata": {},
   "outputs": [
    {
     "data": {
      "text/plain": [
       "<AxesSubplot:xlabel='SKU_Code'>"
      ]
     },
     "execution_count": 8,
     "metadata": {},
     "output_type": "execute_result"
    },
    {
     "data": {
      "image/png": "[encoded data removed]",
      "text/plain": [
       "<Figure size 864x720 with 1 Axes>"
      ]
     },
     "metadata": {
      "needs_background": "light"
     },
     "output_type": "display_data"
    }
   ],
   "source": [
    "#Top Sku_Code Based on quantity\n",
    "prod_Quantity = pd.DataFrame(data.groupby('SKU_Code').sum()['Quantity'])\n",
    "\n",
    "prod_Quantity.sort_values(by=['Quantity'], inplace=True, ascending=False)\n",
    "\n",
    "top_Quantity = prod_Quantity.head(10)\n",
    "\n",
    "top_Quantity.plot(kind='bar',figsize=(12,10))\n",
    "plt.show()\n",
    "\n"
   ]
  },
  {
   "cell_type": "markdown",
   "metadata": {},
   "source": [
    "#Top Sku_Code Based on Gross_Margin\n",
    "prod_profit = pd.DataFrame(data.groupby('SKU_Code').sum()['Gross_Margin_Rs'])\n",
    "\n",
    "prod_profit.sort_values(by=['Gross_Margin_Rs'], inplace=True, ascending=False)\n",
    "\n",
    "top_prods = prod_profit.head(10)\n",
    "\n",
    "top_prods.plot(kind='bar',figsize=(12,10))\n",
    "plt.show()\n"
   ]
  },
  {
   "cell_type": "markdown",
   "metadata": {},
   "source": [
    "#### Most Gross_Margin by City"
   ]
  },
  {
   "cell_type": "markdown",
   "metadata": {},
   "source": [
    "#Top Sku_Code Based on Gross_Margin\n",
    "city_profit = pd.DataFrame(data.groupby('City').sum()['Gross_Margin_Rs'])\n",
    "\n",
    "city_profit.sort_values(by=['Gross_Margin_Rs'], inplace=True, ascending=False)\n",
    "\n",
    "top_city_prods = city_profit.head(10)\n",
    "\n",
    "top_city_prods.plot(kind='bar',figsize=(12,10))\n",
    "plt.show()"
   ]
  },
  {
   "cell_type": "markdown",
   "metadata": {},
   "source": [
    "##### Most product selling city"
   ]
  },
  {
   "cell_type": "code",
   "execution_count": 9,
   "metadata": {},
   "outputs": [
    {
     "data": {
      "text/plain": [
       "<AxesSubplot:>"
      ]
     },
     "execution_count": 9,
     "metadata": {},
     "output_type": "execute_result"
    },
    {
     "data": {
      "image/png": "[encoded data removed]",
      "text/plain": [
       "<Figure size 864x720 with 1 Axes>"
      ]
     },
     "metadata": {
      "needs_background": "light"
     },
     "output_type": "display_data"
    }
   ],
   "source": [
    "data['City'].value_counts().head(10).plot(kind='bar',figsize=(12,10))"
   ]
  },
  {
   "cell_type": "markdown",
   "metadata": {},
   "source": [
    "### RFM Analysis\n",
    "\n",
    "* For Recency, Calculate the number of days between present date and date of last purchase each customer.For Frequency, Calculate the number of orders for each customer.For Monetary, Calculate sum of purchase price for each customer.\n"
   ]
  },
  {
   "cell_type": "code",
   "execution_count": 10,
   "metadata": {},
   "outputs": [],
   "source": [
    "import datetime as dt\n",
    "maxDate = dt.datetime(2019,12,31)"
   ]
  },
  {
   "cell_type": "code",
   "execution_count": 11,
   "metadata": {},
   "outputs": [],
   "source": [
    "# change the date time column datetime\n",
    "data[\"Order_Date\"]=pd.to_datetime(data['Order_Date'])\n",
    "data[\"date\"]=pd.DatetimeIndex(data['Order_Date']).date"
   ]
  },
  {
   "cell_type": "code",
   "execution_count": 12,
   "metadata": {},
   "outputs": [
    {
     "data": {
      "text/html": [
       "<div>\n",
       "<style scoped>\n",
       "    .dataframe tbody tr th:only-of-type {\n",
       "        vertical-align: middle;\n",
       "    }\n",
       "\n",
       "    .dataframe tbody tr th {\n",
       "        vertical-align: top;\n",
       "    }\n",
       "\n",
       "    .dataframe thead th {\n",
       "        text-align: right;\n",
       "    }\n",
       "</style>\n",
       "<table border=\"1\" class=\"dataframe\">\n",
       "  <thead>\n",
       "    <tr style=\"text-align: right;\">\n",
       "      <th></th>\n",
       "      <th>Customer_ID</th>\n",
       "      <th>Customer_Name</th>\n",
       "      <th>Order_No</th>\n",
       "      <th>Order_Date</th>\n",
       "      <th>Invoiced</th>\n",
       "      <th>SKU_Code</th>\n",
       "    </tr>\n",
       "  </thead>\n",
       "  <tbody>\n",
       "    <tr>\n",
       "      <th>0</th>\n",
       "      <td>10993</td>\n",
       "      <td>Natasha  Sethi</td>\n",
       "      <td>M0110013</td>\n",
       "      <td>2019-08-22</td>\n",
       "      <td>1797.0</td>\n",
       "      <td>SWM17614C0512L</td>\n",
       "    </tr>\n",
       "    <tr>\n",
       "      <th>1</th>\n",
       "      <td>6206</td>\n",
       "      <td>Sneha Ganesan</td>\n",
       "      <td>M0110014</td>\n",
       "      <td>2019-08-22</td>\n",
       "      <td>995.0</td>\n",
       "      <td>BRA72501C060636B</td>\n",
       "    </tr>\n",
       "    <tr>\n",
       "      <th>2</th>\n",
       "      <td>2278</td>\n",
       "      <td>ASHUTOSH GARG</td>\n",
       "      <td>M0110016</td>\n",
       "      <td>2019-08-22</td>\n",
       "      <td>327.0</td>\n",
       "      <td>PAN26403C0676M</td>\n",
       "    </tr>\n",
       "    <tr>\n",
       "      <th>3</th>\n",
       "      <td>3867</td>\n",
       "      <td>Deepika Chawla</td>\n",
       "      <td>M0110018</td>\n",
       "      <td>2019-08-23</td>\n",
       "      <td>0.0</td>\n",
       "      <td>BRA10301C032434C</td>\n",
       "    </tr>\n",
       "    <tr>\n",
       "      <th>4</th>\n",
       "      <td>2278</td>\n",
       "      <td>ASHUTOSH GARG</td>\n",
       "      <td>M0110019</td>\n",
       "      <td>2019-08-23</td>\n",
       "      <td>1737.0</td>\n",
       "      <td>SLP70202C0676M</td>\n",
       "    </tr>\n",
       "    <tr>\n",
       "      <th>...</th>\n",
       "      <td>...</td>\n",
       "      <td>...</td>\n",
       "      <td>...</td>\n",
       "      <td>...</td>\n",
       "      <td>...</td>\n",
       "      <td>...</td>\n",
       "    </tr>\n",
       "    <tr>\n",
       "      <th>19112</th>\n",
       "      <td>2075</td>\n",
       "      <td>Arshpreet Kaur</td>\n",
       "      <td>M02866</td>\n",
       "      <td>2019-12-17</td>\n",
       "      <td>2795.0</td>\n",
       "      <td>F0008C062034DD</td>\n",
       "    </tr>\n",
       "    <tr>\n",
       "      <th>19113</th>\n",
       "      <td>2075</td>\n",
       "      <td>Arshpreet Kaur</td>\n",
       "      <td>M02866</td>\n",
       "      <td>2019-12-17</td>\n",
       "      <td>1497.5</td>\n",
       "      <td>F0001C052634DD</td>\n",
       "    </tr>\n",
       "    <tr>\n",
       "      <th>19114</th>\n",
       "      <td>2075</td>\n",
       "      <td>Arshpreet Kaur</td>\n",
       "      <td>M02866</td>\n",
       "      <td>2019-12-17</td>\n",
       "      <td>2295.0</td>\n",
       "      <td>F0007C061034DD</td>\n",
       "    </tr>\n",
       "    <tr>\n",
       "      <th>19115</th>\n",
       "      <td>2075</td>\n",
       "      <td>Arshpreet Kaur</td>\n",
       "      <td>M02866</td>\n",
       "      <td>2019-12-17</td>\n",
       "      <td>1147.5</td>\n",
       "      <td>F0007C060934DD</td>\n",
       "    </tr>\n",
       "    <tr>\n",
       "      <th>19116</th>\n",
       "      <td>10952</td>\n",
       "      <td>Nandita Dave</td>\n",
       "      <td>M02870</td>\n",
       "      <td>2019-12-23</td>\n",
       "      <td>2295.0</td>\n",
       "      <td>E0006C000438DD</td>\n",
       "    </tr>\n",
       "  </tbody>\n",
       "</table>\n",
       "<p>19117 rows × 6 columns</p>\n",
       "</div>"
      ],
      "text/plain": [
       "       Customer_ID   Customer_Name  Order_No Order_Date  Invoiced  \\\n",
       "0            10993  Natasha  Sethi  M0110013 2019-08-22    1797.0   \n",
       "1             6206   Sneha Ganesan  M0110014 2019-08-22     995.0   \n",
       "2             2278   ASHUTOSH GARG  M0110016 2019-08-22     327.0   \n",
       "3             3867  Deepika Chawla  M0110018 2019-08-23       0.0   \n",
       "4             2278   ASHUTOSH GARG  M0110019 2019-08-23    1737.0   \n",
       "...            ...             ...       ...        ...       ...   \n",
       "19112         2075  Arshpreet Kaur    M02866 2019-12-17    2795.0   \n",
       "19113         2075  Arshpreet Kaur    M02866 2019-12-17    1497.5   \n",
       "19114         2075  Arshpreet Kaur    M02866 2019-12-17    2295.0   \n",
       "19115         2075  Arshpreet Kaur    M02866 2019-12-17    1147.5   \n",
       "19116        10952    Nandita Dave    M02870 2019-12-23    2295.0   \n",
       "\n",
       "               SKU_Code  \n",
       "0        SWM17614C0512L  \n",
       "1      BRA72501C060636B  \n",
       "2        PAN26403C0676M  \n",
       "3      BRA10301C032434C  \n",
       "4        SLP70202C0676M  \n",
       "...                 ...  \n",
       "19112    F0008C062034DD  \n",
       "19113    F0001C052634DD  \n",
       "19114    F0007C061034DD  \n",
       "19115    F0007C060934DD  \n",
       "19116    E0006C000438DD  \n",
       "\n",
       "[19117 rows x 6 columns]"
      ]
     },
     "execution_count": 12,
     "metadata": {},
     "output_type": "execute_result"
    }
   ],
   "source": [
    "data_rfm=data[['Customer_ID','Customer_Name','Order_No','Order_Date','Invoiced','SKU_Code']]\n",
    "data_rfm"
   ]
  },
  {
   "cell_type": "markdown",
   "metadata": {},
   "source": [
    "rfm_df = data_rfm.groupby('Customer_Name').agg({'Order_Date': lambda x: (maxDate - x.max()).days,\n",
    "                                        'Order_No': lambda x: len(x), \n",
    "                                        'Invoiced': lambda x: x.sum(),\n",
    "                                        'Gross_Margin_Rs':lambda x: x.sum(),\n",
    "                                        'SKU_Code': lambda x: x.nunique()})\n",
    "rfm_df.rename(columns={'Order_Date': 'Recency', \n",
    "                         'Order_No': 'Frequency', \n",
    "                         'Invoiced': 'Monetary',\n",
    "                         'Gross_Margin_Rs':'Profit',\n",
    "                         'SKU_Code': 'numProduct'}, inplace=True)"
   ]
  },
  {
   "cell_type": "code",
   "execution_count": 13,
   "metadata": {},
   "outputs": [],
   "source": [
    "rfm_df = data_rfm.groupby('Customer_ID').agg({'Order_Date': lambda x: (maxDate - x.max()).days,\n",
    "                                        'Order_No': lambda x: len(x), \n",
    "                                        'Invoiced': lambda x: x.sum(),\n",
    "                                        'SKU_Code': lambda x: x.nunique()})\n",
    "rfm_df.rename(columns={'Order_Date': 'Recency', \n",
    "                         'Order_No': 'Frequency', \n",
    "                         'Invoiced': 'Monetary',\n",
    "                         'SKU_Code': 'numProduct'}, inplace=True)"
   ]
  },
  {
   "cell_type": "markdown",
   "metadata": {},
   "source": [
    "##### Validating the RFM Table"
   ]
  },
  {
   "cell_type": "code",
   "execution_count": 14,
   "metadata": {},
   "outputs": [
    {
     "data": {
      "text/html": [
       "<div>\n",
       "<style scoped>\n",
       "    .dataframe tbody tr th:only-of-type {\n",
       "        vertical-align: middle;\n",
       "    }\n",
       "\n",
       "    .dataframe tbody tr th {\n",
       "        vertical-align: top;\n",
       "    }\n",
       "\n",
       "    .dataframe thead th {\n",
       "        text-align: right;\n",
       "    }\n",
       "</style>\n",
       "<table border=\"1\" class=\"dataframe\">\n",
       "  <thead>\n",
       "    <tr style=\"text-align: right;\">\n",
       "      <th></th>\n",
       "      <th>Recency</th>\n",
       "      <th>Frequency</th>\n",
       "      <th>Monetary</th>\n",
       "      <th>numProduct</th>\n",
       "    </tr>\n",
       "    <tr>\n",
       "      <th>Customer_ID</th>\n",
       "      <th></th>\n",
       "      <th></th>\n",
       "      <th></th>\n",
       "      <th></th>\n",
       "    </tr>\n",
       "  </thead>\n",
       "  <tbody>\n",
       "    <tr>\n",
       "      <th>2</th>\n",
       "      <td>13</td>\n",
       "      <td>4</td>\n",
       "      <td>2612.5</td>\n",
       "      <td>4</td>\n",
       "    </tr>\n",
       "    <tr>\n",
       "      <th>4</th>\n",
       "      <td>40</td>\n",
       "      <td>2</td>\n",
       "      <td>60.2</td>\n",
       "      <td>2</td>\n",
       "    </tr>\n",
       "    <tr>\n",
       "      <th>6</th>\n",
       "      <td>43</td>\n",
       "      <td>1</td>\n",
       "      <td>611.6</td>\n",
       "      <td>1</td>\n",
       "    </tr>\n",
       "    <tr>\n",
       "      <th>7</th>\n",
       "      <td>37</td>\n",
       "      <td>1</td>\n",
       "      <td>611.6</td>\n",
       "      <td>1</td>\n",
       "    </tr>\n",
       "    <tr>\n",
       "      <th>9</th>\n",
       "      <td>152</td>\n",
       "      <td>1</td>\n",
       "      <td>957.0</td>\n",
       "      <td>1</td>\n",
       "    </tr>\n",
       "  </tbody>\n",
       "</table>\n",
       "</div>"
      ],
      "text/plain": [
       "             Recency  Frequency  Monetary  numProduct\n",
       "Customer_ID                                          \n",
       "2                 13          4    2612.5           4\n",
       "4                 40          2      60.2           2\n",
       "6                 43          1     611.6           1\n",
       "7                 37          1     611.6           1\n",
       "9                152          1     957.0           1"
      ]
     },
     "execution_count": 14,
     "metadata": {},
     "output_type": "execute_result"
    }
   ],
   "source": [
    "rfm_df.head()"
   ]
  },
  {
   "cell_type": "code",
   "execution_count": 15,
   "metadata": {},
   "outputs": [
    {
     "data": {
      "text/html": [
       "<div>\n",
       "<style scoped>\n",
       "    .dataframe tbody tr th:only-of-type {\n",
       "        vertical-align: middle;\n",
       "    }\n",
       "\n",
       "    .dataframe tbody tr th {\n",
       "        vertical-align: top;\n",
       "    }\n",
       "\n",
       "    .dataframe thead th {\n",
       "        text-align: right;\n",
       "    }\n",
       "</style>\n",
       "<table border=\"1\" class=\"dataframe\">\n",
       "  <thead>\n",
       "    <tr style=\"text-align: right;\">\n",
       "      <th></th>\n",
       "      <th>Recency</th>\n",
       "      <th>Frequency</th>\n",
       "      <th>Monetary</th>\n",
       "      <th>numProduct</th>\n",
       "    </tr>\n",
       "    <tr>\n",
       "      <th>Customer_ID</th>\n",
       "      <th></th>\n",
       "      <th></th>\n",
       "      <th></th>\n",
       "      <th></th>\n",
       "    </tr>\n",
       "  </thead>\n",
       "  <tbody>\n",
       "    <tr>\n",
       "      <th>12959</th>\n",
       "      <td>364</td>\n",
       "      <td>1</td>\n",
       "      <td>6190.0</td>\n",
       "      <td>1</td>\n",
       "    </tr>\n",
       "    <tr>\n",
       "      <th>12068</th>\n",
       "      <td>364</td>\n",
       "      <td>1</td>\n",
       "      <td>1148.0</td>\n",
       "      <td>1</td>\n",
       "    </tr>\n",
       "    <tr>\n",
       "      <th>8629</th>\n",
       "      <td>364</td>\n",
       "      <td>2</td>\n",
       "      <td>844.0</td>\n",
       "      <td>2</td>\n",
       "    </tr>\n",
       "    <tr>\n",
       "      <th>3221</th>\n",
       "      <td>364</td>\n",
       "      <td>2</td>\n",
       "      <td>1842.0</td>\n",
       "      <td>2</td>\n",
       "    </tr>\n",
       "    <tr>\n",
       "      <th>17346</th>\n",
       "      <td>364</td>\n",
       "      <td>1</td>\n",
       "      <td>998.0</td>\n",
       "      <td>1</td>\n",
       "    </tr>\n",
       "  </tbody>\n",
       "</table>\n",
       "</div>"
      ],
      "text/plain": [
       "             Recency  Frequency  Monetary  numProduct\n",
       "Customer_ID                                          \n",
       "12959            364          1    6190.0           1\n",
       "12068            364          1    1148.0           1\n",
       "8629             364          2     844.0           2\n",
       "3221             364          2    1842.0           2\n",
       "17346            364          1     998.0           1"
      ]
     },
     "execution_count": 15,
     "metadata": {},
     "output_type": "execute_result"
    }
   ],
   "source": [
    "rfm_df.sort_values('Recency',ascending=False).head(5)"
   ]
  },
  {
   "cell_type": "code",
   "execution_count": 16,
   "metadata": {},
   "outputs": [
    {
     "data": {
      "text/html": [
       "<div>\n",
       "<style scoped>\n",
       "    .dataframe tbody tr th:only-of-type {\n",
       "        vertical-align: middle;\n",
       "    }\n",
       "\n",
       "    .dataframe tbody tr th {\n",
       "        vertical-align: top;\n",
       "    }\n",
       "\n",
       "    .dataframe thead th {\n",
       "        text-align: right;\n",
       "    }\n",
       "</style>\n",
       "<table border=\"1\" class=\"dataframe\">\n",
       "  <thead>\n",
       "    <tr style=\"text-align: right;\">\n",
       "      <th></th>\n",
       "      <th>Recency</th>\n",
       "      <th>Frequency</th>\n",
       "      <th>Monetary</th>\n",
       "      <th>numProduct</th>\n",
       "    </tr>\n",
       "    <tr>\n",
       "      <th>Customer_ID</th>\n",
       "      <th></th>\n",
       "      <th></th>\n",
       "      <th></th>\n",
       "      <th></th>\n",
       "    </tr>\n",
       "  </thead>\n",
       "  <tbody>\n",
       "    <tr>\n",
       "      <th>12280</th>\n",
       "      <td>51</td>\n",
       "      <td>40</td>\n",
       "      <td>38724.76</td>\n",
       "      <td>26</td>\n",
       "    </tr>\n",
       "    <tr>\n",
       "      <th>15626</th>\n",
       "      <td>89</td>\n",
       "      <td>26</td>\n",
       "      <td>10256.80</td>\n",
       "      <td>26</td>\n",
       "    </tr>\n",
       "    <tr>\n",
       "      <th>11532</th>\n",
       "      <td>121</td>\n",
       "      <td>21</td>\n",
       "      <td>15144.00</td>\n",
       "      <td>21</td>\n",
       "    </tr>\n",
       "    <tr>\n",
       "      <th>312</th>\n",
       "      <td>18</td>\n",
       "      <td>20</td>\n",
       "      <td>14993.00</td>\n",
       "      <td>20</td>\n",
       "    </tr>\n",
       "    <tr>\n",
       "      <th>6522</th>\n",
       "      <td>55</td>\n",
       "      <td>19</td>\n",
       "      <td>13478.52</td>\n",
       "      <td>19</td>\n",
       "    </tr>\n",
       "  </tbody>\n",
       "</table>\n",
       "</div>"
      ],
      "text/plain": [
       "             Recency  Frequency  Monetary  numProduct\n",
       "Customer_ID                                          \n",
       "12280             51         40  38724.76          26\n",
       "15626             89         26  10256.80          26\n",
       "11532            121         21  15144.00          21\n",
       "312               18         20  14993.00          20\n",
       "6522              55         19  13478.52          19"
      ]
     },
     "execution_count": 16,
     "metadata": {},
     "output_type": "execute_result"
    }
   ],
   "source": [
    "rfm_df.sort_values('Frequency',ascending=False).head(5)"
   ]
  },
  {
   "cell_type": "code",
   "execution_count": 17,
   "metadata": {},
   "outputs": [
    {
     "data": {
      "text/html": [
       "<div>\n",
       "<style scoped>\n",
       "    .dataframe tbody tr th:only-of-type {\n",
       "        vertical-align: middle;\n",
       "    }\n",
       "\n",
       "    .dataframe tbody tr th {\n",
       "        vertical-align: top;\n",
       "    }\n",
       "\n",
       "    .dataframe thead th {\n",
       "        text-align: right;\n",
       "    }\n",
       "</style>\n",
       "<table border=\"1\" class=\"dataframe\">\n",
       "  <thead>\n",
       "    <tr style=\"text-align: right;\">\n",
       "      <th></th>\n",
       "      <th>Recency</th>\n",
       "      <th>Frequency</th>\n",
       "      <th>Monetary</th>\n",
       "      <th>numProduct</th>\n",
       "    </tr>\n",
       "    <tr>\n",
       "      <th>Customer_ID</th>\n",
       "      <th></th>\n",
       "      <th></th>\n",
       "      <th></th>\n",
       "      <th></th>\n",
       "    </tr>\n",
       "  </thead>\n",
       "  <tbody>\n",
       "    <tr>\n",
       "      <th>12280</th>\n",
       "      <td>51</td>\n",
       "      <td>40</td>\n",
       "      <td>38724.76</td>\n",
       "      <td>26</td>\n",
       "    </tr>\n",
       "    <tr>\n",
       "      <th>20284</th>\n",
       "      <td>98</td>\n",
       "      <td>10</td>\n",
       "      <td>19052.51</td>\n",
       "      <td>10</td>\n",
       "    </tr>\n",
       "    <tr>\n",
       "      <th>1158</th>\n",
       "      <td>100</td>\n",
       "      <td>17</td>\n",
       "      <td>17006.00</td>\n",
       "      <td>17</td>\n",
       "    </tr>\n",
       "    <tr>\n",
       "      <th>3493</th>\n",
       "      <td>153</td>\n",
       "      <td>14</td>\n",
       "      <td>16965.01</td>\n",
       "      <td>12</td>\n",
       "    </tr>\n",
       "    <tr>\n",
       "      <th>15821</th>\n",
       "      <td>291</td>\n",
       "      <td>7</td>\n",
       "      <td>16913.00</td>\n",
       "      <td>5</td>\n",
       "    </tr>\n",
       "  </tbody>\n",
       "</table>\n",
       "</div>"
      ],
      "text/plain": [
       "             Recency  Frequency  Monetary  numProduct\n",
       "Customer_ID                                          \n",
       "12280             51         40  38724.76          26\n",
       "20284             98         10  19052.51          10\n",
       "1158             100         17  17006.00          17\n",
       "3493             153         14  16965.01          12\n",
       "15821            291          7  16913.00           5"
      ]
     },
     "execution_count": 17,
     "metadata": {},
     "output_type": "execute_result"
    }
   ],
   "source": [
    "rfm_df.sort_values('Monetary',ascending=False).head(5)"
   ]
  },
  {
   "cell_type": "markdown",
   "metadata": {},
   "source": [
    "#plt.figure(figsize=(20,5))\n",
    "sns.boxplot(data=rfm_df['Recency'])"
   ]
  },
  {
   "cell_type": "markdown",
   "metadata": {},
   "source": [
    "sns.boxplot(data=rfm_df['Frequency'])"
   ]
  },
  {
   "cell_type": "markdown",
   "metadata": {},
   "source": [
    "sns.boxplot(data=rfm_df['Monetary'])"
   ]
  },
  {
   "cell_type": "markdown",
   "metadata": {},
   "source": [
    "sns.boxplot(data=rfm_df['Profit'])"
   ]
  },
  {
   "cell_type": "markdown",
   "metadata": {},
   "source": [
    "sns.boxplot(data=rfm_df['numProduct'])"
   ]
  },
  {
   "cell_type": "markdown",
   "metadata": {},
   "source": [
    "##### Determining RFM Quartiles"
   ]
  },
  {
   "cell_type": "code",
   "execution_count": 18,
   "metadata": {},
   "outputs": [
    {
     "data": {
      "text/html": [
       "<div>\n",
       "<style scoped>\n",
       "    .dataframe tbody tr th:only-of-type {\n",
       "        vertical-align: middle;\n",
       "    }\n",
       "\n",
       "    .dataframe tbody tr th {\n",
       "        vertical-align: top;\n",
       "    }\n",
       "\n",
       "    .dataframe thead th {\n",
       "        text-align: right;\n",
       "    }\n",
       "</style>\n",
       "<table border=\"1\" class=\"dataframe\">\n",
       "  <thead>\n",
       "    <tr style=\"text-align: right;\">\n",
       "      <th></th>\n",
       "      <th>Recency</th>\n",
       "      <th>Frequency</th>\n",
       "      <th>Monetary</th>\n",
       "      <th>numProduct</th>\n",
       "    </tr>\n",
       "  </thead>\n",
       "  <tbody>\n",
       "    <tr>\n",
       "      <th>0.25</th>\n",
       "      <td>41.0</td>\n",
       "      <td>1.0</td>\n",
       "      <td>611.6</td>\n",
       "      <td>1.0</td>\n",
       "    </tr>\n",
       "    <tr>\n",
       "      <th>0.50</th>\n",
       "      <td>84.0</td>\n",
       "      <td>1.0</td>\n",
       "      <td>1137.0</td>\n",
       "      <td>1.0</td>\n",
       "    </tr>\n",
       "    <tr>\n",
       "      <th>0.75</th>\n",
       "      <td>193.0</td>\n",
       "      <td>2.0</td>\n",
       "      <td>1990.0</td>\n",
       "      <td>2.0</td>\n",
       "    </tr>\n",
       "  </tbody>\n",
       "</table>\n",
       "</div>"
      ],
      "text/plain": [
       "      Recency  Frequency  Monetary  numProduct\n",
       "0.25     41.0        1.0     611.6         1.0\n",
       "0.50     84.0        1.0    1137.0         1.0\n",
       "0.75    193.0        2.0    1990.0         2.0"
      ]
     },
     "execution_count": 18,
     "metadata": {},
     "output_type": "execute_result"
    }
   ],
   "source": [
    "quantiles = rfm_df.quantile(q=[0.25,0.5,0.75])\n",
    "quantiles"
   ]
  },
  {
   "cell_type": "markdown",
   "metadata": {},
   "source": [
    "##### Send quantiles to a dictionary, easier to use"
   ]
  },
  {
   "cell_type": "code",
   "execution_count": 19,
   "metadata": {},
   "outputs": [
    {
     "data": {
      "text/plain": [
       "{'Recency': {0.25: 41.0, 0.5: 84.0, 0.75: 193.0},\n",
       " 'Frequency': {0.25: 1.0, 0.5: 1.0, 0.75: 2.0},\n",
       " 'Monetary': {0.25: 611.6, 0.5: 1137.0, 0.75: 1990.0},\n",
       " 'numProduct': {0.25: 1.0, 0.5: 1.0, 0.75: 2.0}}"
      ]
     },
     "execution_count": 19,
     "metadata": {},
     "output_type": "execute_result"
    }
   ],
   "source": [
    "quantiles = quantiles.to_dict()\n",
    "quantiles"
   ]
  },
  {
   "cell_type": "markdown",
   "metadata": {},
   "source": [
    "##### Creating the RFM segmentation"
   ]
  },
  {
   "cell_type": "markdown",
   "metadata": {},
   "source": [
    "###### We create two classes for the RFM segmentation since, being high recency is bad, while high frequency and monetary value is good."
   ]
  },
  {
   "cell_type": "code",
   "execution_count": 20,
   "metadata": {},
   "outputs": [
    {
     "data": {
      "text/plain": [
       "<Figure size 864x720 with 0 Axes>"
      ]
     },
     "execution_count": 20,
     "metadata": {},
     "output_type": "execute_result"
    },
    {
     "data": {
      "text/plain": [
       "<AxesSubplot:>"
      ]
     },
     "execution_count": 20,
     "metadata": {},
     "output_type": "execute_result"
    },
    {
     "data": {
      "text/plain": [
       "<AxesSubplot:xlabel='Recency'>"
      ]
     },
     "execution_count": 20,
     "metadata": {},
     "output_type": "execute_result"
    },
    {
     "data": {
      "text/plain": [
       "<AxesSubplot:>"
      ]
     },
     "execution_count": 20,
     "metadata": {},
     "output_type": "execute_result"
    },
    {
     "data": {
      "text/plain": [
       "<AxesSubplot:xlabel='Frequency'>"
      ]
     },
     "execution_count": 20,
     "metadata": {},
     "output_type": "execute_result"
    },
    {
     "data": {
      "text/plain": [
       "<AxesSubplot:>"
      ]
     },
     "execution_count": 20,
     "metadata": {},
     "output_type": "execute_result"
    },
    {
     "data": {
      "text/plain": [
       "<AxesSubplot:xlabel='Monetary'>"
      ]
     },
     "execution_count": 20,
     "metadata": {},
     "output_type": "execute_result"
    },
    {
     "data": {
      "image/png": "[encoded data removed]",
      "text/plain": [
       "<Figure size 864x720 with 3 Axes>"
      ]
     },
     "metadata": {
      "needs_background": "light"
     },
     "output_type": "display_data"
    }
   ],
   "source": [
    "# Plot RFM distributions\n",
    "plt.figure(figsize=(12,10))\n",
    "# Plot distribution of R\n",
    "plt.subplot(3, 1, 1); \n",
    "sns.distplot(rfm_df['Recency'])\n",
    "# Plot distribution of F\n",
    "plt.subplot(3, 1, 2); \n",
    "sns.distplot(rfm_df['Frequency'])\n",
    "# Plot distribution of M\n",
    "plt.subplot(3, 1, 3); \n",
    "sns.distplot(rfm_df['Monetary'])\n",
    "# Show the plot\n",
    "plt.show()"
   ]
  },
  {
   "cell_type": "markdown",
   "metadata": {},
   "source": [
    "* above plot provides us with some very interesting insights and how skewed our data is. The important thing to take note here is that we will be grouping these values in quantiles. "
   ]
  },
  {
   "cell_type": "markdown",
   "metadata": {},
   "source": [
    "###### In the case of receny, lower is better and hence our categorising scheme need to be reverse."
   ]
  },
  {
   "cell_type": "code",
   "execution_count": 21,
   "metadata": {},
   "outputs": [],
   "source": [
    "def RScore(x,p,d):\n",
    "    if x <= d[p][0.25]:\n",
    "        return 1\n",
    "    elif x <= d[p][0.50]:\n",
    "        return 2\n",
    "    elif x <= d[p][0.75]: \n",
    "        return 3\n",
    "    else:\n",
    "        return 4\n",
    "    \n",
    "\n",
    "def FMScore(x,p,d):\n",
    "    if x <= d[p][0.25]:\n",
    "        return 4\n",
    "    elif x <= d[p][0.50]:\n",
    "        return 3\n",
    "    elif x <= d[p][0.75]: \n",
    "        return 2\n",
    "    else:\n",
    "        return 1"
   ]
  },
  {
   "cell_type": "code",
   "execution_count": 22,
   "metadata": {},
   "outputs": [],
   "source": [
    "rfm_df['R_Quartile'] = rfm_df['Recency'].apply(RScore, args=('Recency',quantiles,))\n",
    "rfm_df['F_Quartile'] = rfm_df['Frequency'].apply(FMScore, args=('Frequency',quantiles,))\n",
    "rfm_df['M_Quartile'] = rfm_df['Monetary'].apply(FMScore, args=('Monetary',quantiles,))"
   ]
  },
  {
   "cell_type": "markdown",
   "metadata": {},
   "source": [
    "*Options 1.For analysis it is critical to combine the scores to create a single score. just concatenate the scores to create a 3 digit number between 111 and 444 , drawback is too many categories (4x4x4). Also, not easy prioritise scores like 421 vs 412"
   ]
  },
  {
   "cell_type": "code",
   "execution_count": 23,
   "metadata": {},
   "outputs": [],
   "source": [
    "rfm_df['RFMScore'] = rfm_df.R_Quartile.map(str) \\\n",
    "                            + rfm_df.F_Quartile.map(str) \\\n",
    "                            + rfm_df.M_Quartile.map(str)"
   ]
  },
  {
   "cell_type": "markdown",
   "metadata": {},
   "source": [
    "##### Based on business requirements, various cut-offs are imposed on each of the three parameters (RFM)."
   ]
  },
  {
   "cell_type": "code",
   "execution_count": 24,
   "metadata": {},
   "outputs": [
    {
     "name": "stdout",
     "output_type": "stream",
     "text": [
      "Best Customers:  192\n",
      "Loyal Customers:  4921\n",
      "Big Spenders:  2362\n",
      "Lost Customers:  347\n",
      "test need change :  192\n"
     ]
    }
   ],
   "source": [
    "print(\"Best Customers: \",len(rfm_df[rfm_df['RFMScore']=='444']))\n",
    "print('Loyal Customers: ',len(rfm_df[rfm_df['F_Quartile']==4]))\n",
    "print(\"Big Spenders: \",len(rfm_df[rfm_df['M_Quartile']==4]))\n",
    "print('Lost Customers: ',len(rfm_df[rfm_df['RFMScore']=='111']))\n",
    "print('test need change : ',len(rfm_df[rfm_df['RFMScore']=='444']))"
   ]
  },
  {
   "cell_type": "markdown",
   "metadata": {},
   "source": [
    "* Customers clearing all the three (RFM) cut-offs are the best and the most reliable customers. Business should focus on making customised promotional strategies and loyalty schemes for these customers in order to retain this valuable customer base.\n",
    "\n",
    "* Customers failing the recency criterion only are those customers who have stopped visiting the store. Business should focus on these customers and look out for the reason why they abandoned visiting the stores.\n",
    "\n",
    "* Customers clearing the recency criterion but failing frequency criterion are the new customers. Business should provide more incentives and offers to these customers and try to retain these new customers."
   ]
  },
  {
   "cell_type": "markdown",
   "metadata": {},
   "source": [
    "#### Recommendation:\n",
    "\n",
    "* Best Customers -  Reward them. \n",
    "\n",
    "* At Risk: Send them personalized emails/message to encourage them to shop."
   ]
  },
  {
   "cell_type": "markdown",
   "metadata": {},
   "source": [
    "###### Options 2. is to combine the scores to create one score (eg. 4+2+3). This will create a score between 3 and 12. Here the sdvantage is that each of the scores got same importance. However some scores will have many sgements as constituents"
   ]
  },
  {
   "cell_type": "code",
   "execution_count": 25,
   "metadata": {},
   "outputs": [
    {
     "data": {
      "text/html": [
       "<div>\n",
       "<style scoped>\n",
       "    .dataframe tbody tr th:only-of-type {\n",
       "        vertical-align: middle;\n",
       "    }\n",
       "\n",
       "    .dataframe tbody tr th {\n",
       "        vertical-align: top;\n",
       "    }\n",
       "\n",
       "    .dataframe thead th {\n",
       "        text-align: right;\n",
       "    }\n",
       "</style>\n",
       "<table border=\"1\" class=\"dataframe\">\n",
       "  <thead>\n",
       "    <tr style=\"text-align: right;\">\n",
       "      <th></th>\n",
       "      <th>Recency</th>\n",
       "      <th>Frequency</th>\n",
       "      <th>Monetary</th>\n",
       "      <th>numProduct</th>\n",
       "      <th>R_Quartile</th>\n",
       "      <th>F_Quartile</th>\n",
       "      <th>M_Quartile</th>\n",
       "      <th>RFMScore</th>\n",
       "      <th>Total Score</th>\n",
       "    </tr>\n",
       "    <tr>\n",
       "      <th>Customer_ID</th>\n",
       "      <th></th>\n",
       "      <th></th>\n",
       "      <th></th>\n",
       "      <th></th>\n",
       "      <th></th>\n",
       "      <th></th>\n",
       "      <th></th>\n",
       "      <th></th>\n",
       "      <th></th>\n",
       "    </tr>\n",
       "  </thead>\n",
       "  <tbody>\n",
       "    <tr>\n",
       "      <th>2</th>\n",
       "      <td>13</td>\n",
       "      <td>4</td>\n",
       "      <td>2612.5</td>\n",
       "      <td>4</td>\n",
       "      <td>1</td>\n",
       "      <td>1</td>\n",
       "      <td>1</td>\n",
       "      <td>111</td>\n",
       "      <td>3</td>\n",
       "    </tr>\n",
       "    <tr>\n",
       "      <th>4</th>\n",
       "      <td>40</td>\n",
       "      <td>2</td>\n",
       "      <td>60.2</td>\n",
       "      <td>2</td>\n",
       "      <td>1</td>\n",
       "      <td>2</td>\n",
       "      <td>4</td>\n",
       "      <td>124</td>\n",
       "      <td>7</td>\n",
       "    </tr>\n",
       "    <tr>\n",
       "      <th>6</th>\n",
       "      <td>43</td>\n",
       "      <td>1</td>\n",
       "      <td>611.6</td>\n",
       "      <td>1</td>\n",
       "      <td>2</td>\n",
       "      <td>4</td>\n",
       "      <td>4</td>\n",
       "      <td>244</td>\n",
       "      <td>10</td>\n",
       "    </tr>\n",
       "    <tr>\n",
       "      <th>7</th>\n",
       "      <td>37</td>\n",
       "      <td>1</td>\n",
       "      <td>611.6</td>\n",
       "      <td>1</td>\n",
       "      <td>1</td>\n",
       "      <td>4</td>\n",
       "      <td>4</td>\n",
       "      <td>144</td>\n",
       "      <td>9</td>\n",
       "    </tr>\n",
       "    <tr>\n",
       "      <th>9</th>\n",
       "      <td>152</td>\n",
       "      <td>1</td>\n",
       "      <td>957.0</td>\n",
       "      <td>1</td>\n",
       "      <td>3</td>\n",
       "      <td>4</td>\n",
       "      <td>3</td>\n",
       "      <td>343</td>\n",
       "      <td>10</td>\n",
       "    </tr>\n",
       "  </tbody>\n",
       "</table>\n",
       "</div>"
      ],
      "text/plain": [
       "             Recency  Frequency  Monetary  numProduct  R_Quartile  F_Quartile  \\\n",
       "Customer_ID                                                                     \n",
       "2                 13          4    2612.5           4           1           1   \n",
       "4                 40          2      60.2           2           1           2   \n",
       "6                 43          1     611.6           1           2           4   \n",
       "7                 37          1     611.6           1           1           4   \n",
       "9                152          1     957.0           1           3           4   \n",
       "\n",
       "             M_Quartile RFMScore  Total Score  \n",
       "Customer_ID                                    \n",
       "2                     1      111            3  \n",
       "4                     4      124            7  \n",
       "6                     4      244           10  \n",
       "7                     4      144            9  \n",
       "9                     3      343           10  "
      ]
     },
     "execution_count": 25,
     "metadata": {},
     "output_type": "execute_result"
    },
    {
     "name": "stdout",
     "output_type": "stream",
     "text": [
      "<class 'pandas.core.frame.DataFrame'>\n",
      "Int64Index: 9405 entries, 2 to 20608\n",
      "Data columns (total 9 columns):\n",
      " #   Column       Non-Null Count  Dtype  \n",
      "---  ------       --------------  -----  \n",
      " 0   Recency      9405 non-null   int64  \n",
      " 1   Frequency    9405 non-null   int64  \n",
      " 2   Monetary     9405 non-null   float64\n",
      " 3   numProduct   9405 non-null   int64  \n",
      " 4   R_Quartile   9405 non-null   int64  \n",
      " 5   F_Quartile   9405 non-null   int64  \n",
      " 6   M_Quartile   9405 non-null   int64  \n",
      " 7   RFMScore     9405 non-null   object \n",
      " 8   Total Score  9405 non-null   int64  \n",
      "dtypes: float64(1), int64(7), object(1)\n",
      "memory usage: 734.8+ KB\n"
     ]
    }
   ],
   "source": [
    "rfm_df['Total Score'] = rfm_df['R_Quartile'] + rfm_df['F_Quartile'] +rfm_df['M_Quartile']\n",
    "rfm_df.head()\n",
    "rfm_df.info()"
   ]
  },
  {
   "cell_type": "code",
   "execution_count": 26,
   "metadata": {},
   "outputs": [
    {
     "data": {
      "text/plain": [
       "Total Score\n",
       "3     3806.378069\n",
       "4     3044.410060\n",
       "5     3221.147538\n",
       "6     2494.841288\n",
       "7     1685.093598\n",
       "8     1186.904604\n",
       "9      860.354886\n",
       "10     770.886751\n",
       "11     695.487573\n",
       "12     483.031250\n",
       "Name: Monetary, dtype: float64"
      ]
     },
     "execution_count": 26,
     "metadata": {},
     "output_type": "execute_result"
    }
   ],
   "source": [
    "rfm_df.groupby('Total Score').agg('Monetary').mean()"
   ]
  },
  {
   "cell_type": "markdown",
   "metadata": {},
   "source": [
    "##### Combined score arrange R,F and M"
   ]
  },
  {
   "cell_type": "markdown",
   "metadata": {},
   "source": [
    "* Recency is the most important predictor of who is more likely to respond to an offer. Customers who have purchased recently are more likely to purchase again when compared to those who did not purchase recently.   "
   ]
  },
  {
   "cell_type": "code",
   "execution_count": 27,
   "metadata": {},
   "outputs": [
    {
     "data": {
      "text/plain": [
       "Text(0.5, 1.0, 'Proportion of Recency with Total Score')"
      ]
     },
     "execution_count": 27,
     "metadata": {},
     "output_type": "execute_result"
    },
    {
     "data": {
      "text/plain": [
       "Text(0, 0.5, 'Total Score')"
      ]
     },
     "execution_count": 27,
     "metadata": {},
     "output_type": "execute_result"
    },
    {
     "data": {
      "text/plain": [
       "Text(0.5, 0, 'Proportion of Recency')"
      ]
     },
     "execution_count": 27,
     "metadata": {},
     "output_type": "execute_result"
    },
    {
     "data": {
      "text/plain": [
       "Text(-0.15, 21.46829971181556, '20.97')"
      ]
     },
     "execution_count": 27,
     "metadata": {},
     "output_type": "execute_result"
    },
    {
     "data": {
      "text/plain": [
       "Text(0.85, 45.12, '44.62')"
      ]
     },
     "execution_count": 27,
     "metadata": {},
     "output_type": "execute_result"
    },
    {
     "data": {
      "text/plain": [
       "Text(1.85, 95.83585313174946, '95.34')"
      ]
     },
     "execution_count": 27,
     "metadata": {},
     "output_type": "execute_result"
    },
    {
     "data": {
      "text/plain": [
       "Text(2.85, 141.71321070234114, '141.21')"
      ]
     },
     "execution_count": 27,
     "metadata": {},
     "output_type": "execute_result"
    },
    {
     "data": {
      "text/plain": [
       "Text(3.85, 145.37809712586719, '144.88')"
      ]
     },
     "execution_count": 27,
     "metadata": {},
     "output_type": "execute_result"
    },
    {
     "data": {
      "text/plain": [
       "Text(4.85, 128.6933962264151, '128.19')"
      ]
     },
     "execution_count": 27,
     "metadata": {},
     "output_type": "execute_result"
    },
    {
     "data": {
      "text/plain": [
       "Text(5.85, 87.54545454545455, '87.05')"
      ]
     },
     "execution_count": 27,
     "metadata": {},
     "output_type": "execute_result"
    },
    {
     "data": {
      "text/plain": [
       "Text(6.85, 131.04260582737768, '130.54')"
      ]
     },
     "execution_count": 27,
     "metadata": {},
     "output_type": "execute_result"
    },
    {
     "data": {
      "text/plain": [
       "Text(7.85, 219.26461988304092, '218.76')"
      ]
     },
     "execution_count": 27,
     "metadata": {},
     "output_type": "execute_result"
    },
    {
     "data": {
      "text/plain": [
       "Text(8.85, 285.734375, '285.23')"
      ]
     },
     "execution_count": 27,
     "metadata": {},
     "output_type": "execute_result"
    },
    {
     "data": {
      "text/plain": [
       "(array([  0.,  50., 100., 150., 200., 250., 300.]),\n",
       " [Text(0, 0, ''),\n",
       "  Text(0, 0, ''),\n",
       "  Text(0, 0, ''),\n",
       "  Text(0, 0, ''),\n",
       "  Text(0, 0, ''),\n",
       "  Text(0, 0, ''),\n",
       "  Text(0, 0, '')])"
      ]
     },
     "execution_count": 27,
     "metadata": {},
     "output_type": "execute_result"
    },
    {
     "data": {
      "image/png": "[encoded data removed]",
      "text/plain": [
       "<Figure size 576x504 with 1 Axes>"
      ]
     },
     "metadata": {
      "needs_background": "light"
     },
     "output_type": "display_data"
    }
   ],
   "source": [
    "colors = ['#5cb85c','#5bc0de','#1e90ff','#e06666','#bdb76b','#4169e1','#aec6cf','#21abcd','#bcb88a','#d1e231']\n",
    "ax=rfm_df.groupby('Total Score').agg('Recency').mean().plot(kind='bar', color=colors,figsize=(8,7),fontsize=13)\n",
    "ax.set_alpha(0.8)\n",
    "ax.set_title(\"Proportion of Recency with Total Score\", fontsize=18)\n",
    "ax.set_ylabel(\"Total Score\", fontsize=18);\n",
    "ax.set_xlabel(\"Proportion of Recency\", fontsize=18);\n",
    "# create a list to collect the plt.patches data\n",
    "totals = []\n",
    "# find the values and append to list\n",
    "for i in ax.patches:\n",
    "    totals.append(i.get_height())\n",
    "# set individual bar lables using above list\n",
    "total = sum(totals)\n",
    "# set individual bar lables using above list\n",
    "for i in ax.patches:\n",
    "    # get_x pulls left or right; get_height pushes up or down\n",
    "    ax.text(i.get_x()+0.1, i.get_height()+.5, \\\n",
    "            str(round(i.get_height(), 2)), fontsize=15,\n",
    "                color='dimgrey')\n",
    "#plt.xticks(rotation =30,fontsize =12)\n",
    "plt.yticks(rotation =30,fontsize =12)  \n",
    "plt.savefig(\"Proportion of Recency with Total Score.jpg\")\n"
   ]
  },
  {
   "cell_type": "markdown",
   "metadata": {},
   "source": [
    "* second most important factor is how frequently these customers purchase. The higher the frequency, the higher is the chances of these responding to the offers."
   ]
  },
  {
   "cell_type": "code",
   "execution_count": 28,
   "metadata": {},
   "outputs": [
    {
     "data": {
      "text/plain": [
       "Text(0.5, 0, 'Total Score')"
      ]
     },
     "execution_count": 28,
     "metadata": {},
     "output_type": "execute_result"
    },
    {
     "data": {
      "text/plain": [
       "Text(0, 0.5, 'Proportion of Frequency')"
      ]
     },
     "execution_count": 28,
     "metadata": {},
     "output_type": "execute_result"
    },
    {
     "data": {
      "text/plain": [
       "Text(0.5, 1.0, 'Proportion of Frequency with Total Score')"
      ]
     },
     "execution_count": 28,
     "metadata": {},
     "output_type": "execute_result"
    },
    {
     "data": {
      "text/plain": [
       "Text(0, 0.5, 'Total Score')"
      ]
     },
     "execution_count": 28,
     "metadata": {},
     "output_type": "execute_result"
    },
    {
     "data": {
      "text/plain": [
       "Text(0.5, 0, 'Proportion of Frequency')"
      ]
     },
     "execution_count": 28,
     "metadata": {},
     "output_type": "execute_result"
    },
    {
     "data": {
      "text/plain": [
       "Text(-0.55, 5.326657060518732, '5.28')"
      ]
     },
     "execution_count": 28,
     "metadata": {},
     "output_type": "execute_result"
    },
    {
     "data": {
      "text/plain": [
       "Text(0.45, 4.25, '4.2')"
      ]
     },
     "execution_count": 28,
     "metadata": {},
     "output_type": "execute_result"
    },
    {
     "data": {
      "text/plain": [
       "Text(1.45, 3.864254859611231, '3.81')"
      ]
     },
     "execution_count": 28,
     "metadata": {},
     "output_type": "execute_result"
    },
    {
     "data": {
      "text/plain": [
       "Text(2.45, 2.968896321070234, '2.92')"
      ]
     },
     "execution_count": 28,
     "metadata": {},
     "output_type": "execute_result"
    },
    {
     "data": {
      "text/plain": [
       "Text(3.45, 2.0668483647175417, '2.02')"
      ]
     },
     "execution_count": 28,
     "metadata": {},
     "output_type": "execute_result"
    },
    {
     "data": {
      "text/plain": [
       "Text(4.45, 1.549056603773585, '1.5')"
      ]
     },
     "execution_count": 28,
     "metadata": {},
     "output_type": "execute_result"
    },
    {
     "data": {
      "text/plain": [
       "Text(5.45, 1.1433014354066986, '1.09')"
      ]
     },
     "execution_count": 28,
     "metadata": {},
     "output_type": "execute_result"
    },
    {
     "data": {
      "text/plain": [
       "Text(6.45, 1.0587960417811986, '1.01')"
      ]
     },
     "execution_count": 28,
     "metadata": {},
     "output_type": "execute_result"
    },
    {
     "data": {
      "text/plain": [
       "Text(7.45, 1.05, '1.0')"
      ]
     },
     "execution_count": 28,
     "metadata": {},
     "output_type": "execute_result"
    },
    {
     "data": {
      "text/plain": [
       "Text(8.45, 1.05, '1.0')"
      ]
     },
     "execution_count": 28,
     "metadata": {},
     "output_type": "execute_result"
    },
    {
     "data": {
      "text/plain": [
       "Text(-0.55, 5.326657060518732, '5.28')"
      ]
     },
     "execution_count": 28,
     "metadata": {},
     "output_type": "execute_result"
    },
    {
     "data": {
      "text/plain": [
       "Text(0.45, 4.25, '4.2')"
      ]
     },
     "execution_count": 28,
     "metadata": {},
     "output_type": "execute_result"
    },
    {
     "data": {
      "text/plain": [
       "Text(1.45, 3.864254859611231, '3.81')"
      ]
     },
     "execution_count": 28,
     "metadata": {},
     "output_type": "execute_result"
    },
    {
     "data": {
      "text/plain": [
       "Text(2.45, 2.968896321070234, '2.92')"
      ]
     },
     "execution_count": 28,
     "metadata": {},
     "output_type": "execute_result"
    },
    {
     "data": {
      "text/plain": [
       "Text(3.45, 2.0668483647175417, '2.02')"
      ]
     },
     "execution_count": 28,
     "metadata": {},
     "output_type": "execute_result"
    },
    {
     "data": {
      "text/plain": [
       "Text(4.45, 1.549056603773585, '1.5')"
      ]
     },
     "execution_count": 28,
     "metadata": {},
     "output_type": "execute_result"
    },
    {
     "data": {
      "text/plain": [
       "Text(5.45, 1.1433014354066986, '1.09')"
      ]
     },
     "execution_count": 28,
     "metadata": {},
     "output_type": "execute_result"
    },
    {
     "data": {
      "text/plain": [
       "Text(6.45, 1.0587960417811986, '1.01')"
      ]
     },
     "execution_count": 28,
     "metadata": {},
     "output_type": "execute_result"
    },
    {
     "data": {
      "text/plain": [
       "Text(7.45, 1.05, '1.0')"
      ]
     },
     "execution_count": 28,
     "metadata": {},
     "output_type": "execute_result"
    },
    {
     "data": {
      "text/plain": [
       "Text(8.45, 1.05, '1.0')"
      ]
     },
     "execution_count": 28,
     "metadata": {},
     "output_type": "execute_result"
    },
    {
     "data": {
      "text/plain": [
       "(array([0., 1., 2., 3., 4., 5., 6.]),\n",
       " [Text(0, 0, ''),\n",
       "  Text(0, 0, ''),\n",
       "  Text(0, 0, ''),\n",
       "  Text(0, 0, ''),\n",
       "  Text(0, 0, ''),\n",
       "  Text(0, 0, ''),\n",
       "  Text(0, 0, '')])"
      ]
     },
     "execution_count": 28,
     "metadata": {},
     "output_type": "execute_result"
    },
    {
     "data": {
      "image/png": "[encoded data removed]",
      "text/plain": [
       "<Figure size 576x504 with 1 Axes>"
      ]
     },
     "metadata": {
      "needs_background": "light"
     },
     "output_type": "display_data"
    }
   ],
   "source": [
    "ax=rfm_df.groupby('Total Score').agg('Frequency').mean().plot(kind='bar', colormap='copper_r')\n",
    "ax.set_xlabel(\"Total Score\")\n",
    "ax.set_ylabel(\"Proportion of Frequency\")\n",
    "\n",
    "colors = ['#5cb85c','#5bc0de','#1e90ff','#e06666','#bdb76b','#4169e1','#aec6cf','#21abcd','#bcb88a','#d1e231']\n",
    "ax=rfm_df.groupby('Total Score').agg('Frequency').mean().plot(kind='bar', color=colors,figsize=(8,7),fontsize=13)\n",
    "ax.set_alpha(0.8)\n",
    "ax.set_title(\"Proportion of Frequency with Total Score\", fontsize=18)\n",
    "ax.set_ylabel(\"Total Score\", fontsize=18);\n",
    "ax.set_xlabel(\"Proportion of Frequency\", fontsize=18);\n",
    "# create a list to collect the plt.patches data\n",
    "totals = []\n",
    "# find the values and append to list\n",
    "for i in ax.patches:\n",
    "    totals.append(i.get_height())\n",
    "# set individual bar lables using above list\n",
    "total = sum(totals)\n",
    "# set individual bar lables using above list\n",
    "for i in ax.patches:\n",
    "    # get_x pulls left or right; get_height pushes up or down\n",
    "    ax.text(i.get_x()-0.3, i.get_height()+0.05, \\\n",
    "            str(round(i.get_height(), 2)), fontsize=15,\n",
    "                color='dimgrey')\n",
    "#plt.xticks(rotation =30,fontsize =12)\n",
    "plt.yticks(rotation =30,fontsize =12)  \n",
    "plt.savefig(\"Proportion of Frequency with Total Score.jpg\")"
   ]
  },
  {
   "cell_type": "markdown",
   "metadata": {},
   "source": [
    "* The third factor is the amount of money these customers have spent on purchases. Customers who have spent higher contribute more value to the business as compared to those who have spent less."
   ]
  },
  {
   "cell_type": "code",
   "execution_count": 29,
   "metadata": {},
   "outputs": [
    {
     "data": {
      "text/plain": [
       "Text(0.5, 1.0, 'Proportion of Monetary with Total Score')"
      ]
     },
     "execution_count": 29,
     "metadata": {},
     "output_type": "execute_result"
    },
    {
     "data": {
      "text/plain": [
       "Text(0, 0.5, 'Total Score')"
      ]
     },
     "execution_count": 29,
     "metadata": {},
     "output_type": "execute_result"
    },
    {
     "data": {
      "text/plain": [
       "Text(0.5, 0, 'Proportion of Frequency')"
      ]
     },
     "execution_count": 29,
     "metadata": {},
     "output_type": "execute_result"
    },
    {
     "data": {
      "text/plain": [
       "Text(-0.04999999999999999, 5.326657060518732, '5.28')"
      ]
     },
     "execution_count": 29,
     "metadata": {},
     "output_type": "execute_result"
    },
    {
     "data": {
      "text/plain": [
       "Text(0.95, 4.25, '4.2')"
      ]
     },
     "execution_count": 29,
     "metadata": {},
     "output_type": "execute_result"
    },
    {
     "data": {
      "text/plain": [
       "Text(1.95, 3.864254859611231, '3.81')"
      ]
     },
     "execution_count": 29,
     "metadata": {},
     "output_type": "execute_result"
    },
    {
     "data": {
      "text/plain": [
       "Text(2.95, 2.968896321070234, '2.92')"
      ]
     },
     "execution_count": 29,
     "metadata": {},
     "output_type": "execute_result"
    },
    {
     "data": {
      "text/plain": [
       "Text(3.95, 2.0668483647175417, '2.02')"
      ]
     },
     "execution_count": 29,
     "metadata": {},
     "output_type": "execute_result"
    },
    {
     "data": {
      "text/plain": [
       "Text(4.95, 1.549056603773585, '1.5')"
      ]
     },
     "execution_count": 29,
     "metadata": {},
     "output_type": "execute_result"
    },
    {
     "data": {
      "text/plain": [
       "Text(5.95, 1.1433014354066986, '1.09')"
      ]
     },
     "execution_count": 29,
     "metadata": {},
     "output_type": "execute_result"
    },
    {
     "data": {
      "text/plain": [
       "Text(6.95, 1.0587960417811986, '1.01')"
      ]
     },
     "execution_count": 29,
     "metadata": {},
     "output_type": "execute_result"
    },
    {
     "data": {
      "text/plain": [
       "Text(7.95, 1.05, '1.0')"
      ]
     },
     "execution_count": 29,
     "metadata": {},
     "output_type": "execute_result"
    },
    {
     "data": {
      "text/plain": [
       "Text(8.95, 1.05, '1.0')"
      ]
     },
     "execution_count": 29,
     "metadata": {},
     "output_type": "execute_result"
    },
    {
     "data": {
      "text/plain": [
       "(array([0., 1., 2., 3., 4., 5., 6.]),\n",
       " [Text(0, 0, ''),\n",
       "  Text(0, 0, ''),\n",
       "  Text(0, 0, ''),\n",
       "  Text(0, 0, ''),\n",
       "  Text(0, 0, ''),\n",
       "  Text(0, 0, ''),\n",
       "  Text(0, 0, '')])"
      ]
     },
     "execution_count": 29,
     "metadata": {},
     "output_type": "execute_result"
    },
    {
     "data": {
      "image/png": "[encoded data removed]",
      "text/plain": [
       "<Figure size 576x504 with 1 Axes>"
      ]
     },
     "metadata": {
      "needs_background": "light"
     },
     "output_type": "display_data"
    }
   ],
   "source": [
    "colors = ['#5cb85c','#5bc0de','#1e90ff','#e06666','#bdb76b','#4169e1','#aec6cf','#21abcd','#bcb88a','#d1e231']\n",
    "ax=rfm_df.groupby('Total Score').agg('Frequency').mean().plot(kind='bar', color=colors,figsize=(8,7),fontsize=13)\n",
    "ax.set_alpha(0.8)\n",
    "ax.set_title(\"Proportion of Monetary with Total Score\", fontsize=18)\n",
    "ax.set_ylabel(\"Total Score\", fontsize=18);\n",
    "ax.set_xlabel(\"Proportion of Frequency\", fontsize=18);\n",
    "# create a list to collect the plt.patches data\n",
    "totals = []\n",
    "# find the values and append to list\n",
    "for i in ax.patches:\n",
    "    totals.append(i.get_height())\n",
    "# set individual bar lables using above list\n",
    "total = sum(totals)\n",
    "# set individual bar lables using above list\n",
    "for i in ax.patches:\n",
    "    # get_x pulls left or right; get_height pushes up or down\n",
    "    ax.text(i.get_x()+0.2, i.get_height()+0.05, \\\n",
    "            str(round(i.get_height(), 2)), fontsize=15,\n",
    "                color='dimgrey')\n",
    "#plt.xticks(rotation =30,fontsize =12)\n",
    "plt.yticks(rotation =30,fontsize =12)  \n",
    "plt.savefig(\"Proportion of Monetary with Total Score.jpg\")"
   ]
  },
  {
   "cell_type": "markdown",
   "metadata": {},
   "source": [
    "* From above three plot based on Total Score is more consistent then options 1"
   ]
  },
  {
   "cell_type": "markdown",
   "metadata": {},
   "source": [
    "##### Define rfm level function to label data based on below condition"
   ]
  },
  {
   "cell_type": "code",
   "execution_count": 30,
   "metadata": {},
   "outputs": [
    {
     "data": {
      "text/html": [
       "<div>\n",
       "<style scoped>\n",
       "    .dataframe tbody tr th:only-of-type {\n",
       "        vertical-align: middle;\n",
       "    }\n",
       "\n",
       "    .dataframe tbody tr th {\n",
       "        vertical-align: top;\n",
       "    }\n",
       "\n",
       "    .dataframe thead th {\n",
       "        text-align: right;\n",
       "    }\n",
       "</style>\n",
       "<table border=\"1\" class=\"dataframe\">\n",
       "  <thead>\n",
       "    <tr style=\"text-align: right;\">\n",
       "      <th></th>\n",
       "      <th>Recency</th>\n",
       "      <th>Frequency</th>\n",
       "      <th>Monetary</th>\n",
       "      <th>numProduct</th>\n",
       "      <th>R_Quartile</th>\n",
       "      <th>F_Quartile</th>\n",
       "      <th>M_Quartile</th>\n",
       "      <th>RFMScore</th>\n",
       "      <th>Total Score</th>\n",
       "      <th>RFM_Level</th>\n",
       "    </tr>\n",
       "    <tr>\n",
       "      <th>Customer_ID</th>\n",
       "      <th></th>\n",
       "      <th></th>\n",
       "      <th></th>\n",
       "      <th></th>\n",
       "      <th></th>\n",
       "      <th></th>\n",
       "      <th></th>\n",
       "      <th></th>\n",
       "      <th></th>\n",
       "      <th></th>\n",
       "    </tr>\n",
       "  </thead>\n",
       "  <tbody>\n",
       "    <tr>\n",
       "      <th>2</th>\n",
       "      <td>13</td>\n",
       "      <td>4</td>\n",
       "      <td>2612.5</td>\n",
       "      <td>4</td>\n",
       "      <td>1</td>\n",
       "      <td>1</td>\n",
       "      <td>1</td>\n",
       "      <td>111</td>\n",
       "      <td>3</td>\n",
       "      <td>Require Activation</td>\n",
       "    </tr>\n",
       "    <tr>\n",
       "      <th>4</th>\n",
       "      <td>40</td>\n",
       "      <td>2</td>\n",
       "      <td>60.2</td>\n",
       "      <td>2</td>\n",
       "      <td>1</td>\n",
       "      <td>2</td>\n",
       "      <td>4</td>\n",
       "      <td>124</td>\n",
       "      <td>7</td>\n",
       "      <td>Loyal</td>\n",
       "    </tr>\n",
       "    <tr>\n",
       "      <th>6</th>\n",
       "      <td>43</td>\n",
       "      <td>1</td>\n",
       "      <td>611.6</td>\n",
       "      <td>1</td>\n",
       "      <td>2</td>\n",
       "      <td>4</td>\n",
       "      <td>4</td>\n",
       "      <td>244</td>\n",
       "      <td>10</td>\n",
       "      <td>Can't Loose Them</td>\n",
       "    </tr>\n",
       "    <tr>\n",
       "      <th>7</th>\n",
       "      <td>37</td>\n",
       "      <td>1</td>\n",
       "      <td>611.6</td>\n",
       "      <td>1</td>\n",
       "      <td>1</td>\n",
       "      <td>4</td>\n",
       "      <td>4</td>\n",
       "      <td>144</td>\n",
       "      <td>9</td>\n",
       "      <td>Can't Loose Them</td>\n",
       "    </tr>\n",
       "    <tr>\n",
       "      <th>9</th>\n",
       "      <td>152</td>\n",
       "      <td>1</td>\n",
       "      <td>957.0</td>\n",
       "      <td>1</td>\n",
       "      <td>3</td>\n",
       "      <td>4</td>\n",
       "      <td>3</td>\n",
       "      <td>343</td>\n",
       "      <td>10</td>\n",
       "      <td>Can't Loose Them</td>\n",
       "    </tr>\n",
       "    <tr>\n",
       "      <th>...</th>\n",
       "      <td>...</td>\n",
       "      <td>...</td>\n",
       "      <td>...</td>\n",
       "      <td>...</td>\n",
       "      <td>...</td>\n",
       "      <td>...</td>\n",
       "      <td>...</td>\n",
       "      <td>...</td>\n",
       "      <td>...</td>\n",
       "      <td>...</td>\n",
       "    </tr>\n",
       "    <tr>\n",
       "      <th>20601</th>\n",
       "      <td>181</td>\n",
       "      <td>4</td>\n",
       "      <td>3290.0</td>\n",
       "      <td>4</td>\n",
       "      <td>3</td>\n",
       "      <td>1</td>\n",
       "      <td>1</td>\n",
       "      <td>311</td>\n",
       "      <td>5</td>\n",
       "      <td>Promising</td>\n",
       "    </tr>\n",
       "    <tr>\n",
       "      <th>20602</th>\n",
       "      <td>160</td>\n",
       "      <td>1</td>\n",
       "      <td>1397.5</td>\n",
       "      <td>1</td>\n",
       "      <td>3</td>\n",
       "      <td>4</td>\n",
       "      <td>2</td>\n",
       "      <td>342</td>\n",
       "      <td>9</td>\n",
       "      <td>Can't Loose Them</td>\n",
       "    </tr>\n",
       "    <tr>\n",
       "      <th>20603</th>\n",
       "      <td>56</td>\n",
       "      <td>2</td>\n",
       "      <td>3390.0</td>\n",
       "      <td>2</td>\n",
       "      <td>2</td>\n",
       "      <td>2</td>\n",
       "      <td>1</td>\n",
       "      <td>221</td>\n",
       "      <td>5</td>\n",
       "      <td>Promising</td>\n",
       "    </tr>\n",
       "    <tr>\n",
       "      <th>20605</th>\n",
       "      <td>29</td>\n",
       "      <td>2</td>\n",
       "      <td>1974.5</td>\n",
       "      <td>1</td>\n",
       "      <td>1</td>\n",
       "      <td>2</td>\n",
       "      <td>2</td>\n",
       "      <td>122</td>\n",
       "      <td>5</td>\n",
       "      <td>Promising</td>\n",
       "    </tr>\n",
       "    <tr>\n",
       "      <th>20608</th>\n",
       "      <td>223</td>\n",
       "      <td>1</td>\n",
       "      <td>595.0</td>\n",
       "      <td>1</td>\n",
       "      <td>4</td>\n",
       "      <td>4</td>\n",
       "      <td>4</td>\n",
       "      <td>444</td>\n",
       "      <td>12</td>\n",
       "      <td>Can't Loose Them</td>\n",
       "    </tr>\n",
       "  </tbody>\n",
       "</table>\n",
       "<p>9405 rows × 10 columns</p>\n",
       "</div>"
      ],
      "text/plain": [
       "             Recency  Frequency  Monetary  numProduct  R_Quartile  F_Quartile  \\\n",
       "Customer_ID                                                                     \n",
       "2                 13          4    2612.5           4           1           1   \n",
       "4                 40          2      60.2           2           1           2   \n",
       "6                 43          1     611.6           1           2           4   \n",
       "7                 37          1     611.6           1           1           4   \n",
       "9                152          1     957.0           1           3           4   \n",
       "...              ...        ...       ...         ...         ...         ...   \n",
       "20601            181          4    3290.0           4           3           1   \n",
       "20602            160          1    1397.5           1           3           4   \n",
       "20603             56          2    3390.0           2           2           2   \n",
       "20605             29          2    1974.5           1           1           2   \n",
       "20608            223          1     595.0           1           4           4   \n",
       "\n",
       "             M_Quartile RFMScore  Total Score           RFM_Level  \n",
       "Customer_ID                                                        \n",
       "2                     1      111            3  Require Activation  \n",
       "4                     4      124            7               Loyal  \n",
       "6                     4      244           10    Can't Loose Them  \n",
       "7                     4      144            9    Can't Loose Them  \n",
       "9                     3      343           10    Can't Loose Them  \n",
       "...                 ...      ...          ...                 ...  \n",
       "20601                 1      311            5           Promising  \n",
       "20602                 2      342            9    Can't Loose Them  \n",
       "20603                 1      221            5           Promising  \n",
       "20605                 2      122            5           Promising  \n",
       "20608                 4      444           12    Can't Loose Them  \n",
       "\n",
       "[9405 rows x 10 columns]"
      ]
     },
     "execution_count": 30,
     "metadata": {},
     "output_type": "execute_result"
    }
   ],
   "source": [
    "def rfm_level(rfm_df):\n",
    "    if rfm_df['Total Score'] >= 9:\n",
    "        return 'Can\\'t Loose Them'\n",
    "    elif ((rfm_df['Total Score'] >= 8) and (rfm_df['Total Score'] < 9)):\n",
    "        return 'Champions'\n",
    "    elif ((rfm_df['Total Score'] >= 7) and (rfm_df['Total Score'] < 8)):\n",
    "        return 'Loyal'\n",
    "    elif ((rfm_df['Total Score'] >= 6) and (rfm_df['Total Score'] < 7)):\n",
    "        return 'Potential'\n",
    "    elif ((rfm_df['Total Score'] >= 5) and (rfm_df['Total Score'] < 6)):\n",
    "        return 'Promising'\n",
    "    elif ((rfm_df['Total Score'] >= 4) and (rfm_df['Total Score'] < 5)):\n",
    "        return 'Needs Attention'\n",
    "    else:\n",
    "        return 'Require Activation'\n",
    "# Create a new variable RFM_Level\n",
    "rfm_df['RFM_Level'] = rfm_df.apply(rfm_level, axis=1)\n",
    "# Print the header with top 5 rows to the console\n",
    "rfm_df"
   ]
  },
  {
   "cell_type": "code",
   "execution_count": 31,
   "metadata": {},
   "outputs": [
    {
     "data": {
      "text/plain": [
       "Text(0.5, 1.0, 'Proportion of Customers with RFM_Level')"
      ]
     },
     "execution_count": 31,
     "metadata": {},
     "output_type": "execute_result"
    },
    {
     "data": {
      "text/plain": [
       "Text(0, 0.5, 'Number of Customers')"
      ]
     },
     "execution_count": 31,
     "metadata": {},
     "output_type": "execute_result"
    },
    {
     "data": {
      "text/plain": [
       "Text(0.5, 0, 'RFM Level')"
      ]
     },
     "execution_count": 31,
     "metadata": {},
     "output_type": "execute_result"
    },
    {
     "data": {
      "text/plain": [
       "Text(-0.04999999999999999, 4367.05, '4367')"
      ]
     },
     "execution_count": 31,
     "metadata": {},
     "output_type": "execute_result"
    },
    {
     "data": {
      "text/plain": [
       "Text(0.95, 1196.05, '1196')"
      ]
     },
     "execution_count": 31,
     "metadata": {},
     "output_type": "execute_result"
    },
    {
     "data": {
      "text/plain": [
       "Text(1.95, 1060.05, '1060')"
      ]
     },
     "execution_count": 31,
     "metadata": {},
     "output_type": "execute_result"
    },
    {
     "data": {
      "text/plain": [
       "Text(2.95, 1009.05, '1009')"
      ]
     },
     "execution_count": 31,
     "metadata": {},
     "output_type": "execute_result"
    },
    {
     "data": {
      "text/plain": [
       "Text(3.95, 926.05, '926')"
      ]
     },
     "execution_count": 31,
     "metadata": {},
     "output_type": "execute_result"
    },
    {
     "data": {
      "text/plain": [
       "Text(4.95, 500.05, '500')"
      ]
     },
     "execution_count": 31,
     "metadata": {},
     "output_type": "execute_result"
    },
    {
     "data": {
      "text/plain": [
       "Text(5.95, 347.05, '347')"
      ]
     },
     "execution_count": 31,
     "metadata": {},
     "output_type": "execute_result"
    },
    {
     "data": {
      "text/plain": [
       "(array([   0., 1000., 2000., 3000., 4000., 5000.]),\n",
       " [Text(0, 0, ''),\n",
       "  Text(0, 0, ''),\n",
       "  Text(0, 0, ''),\n",
       "  Text(0, 0, ''),\n",
       "  Text(0, 0, ''),\n",
       "  Text(0, 0, '')])"
      ]
     },
     "execution_count": 31,
     "metadata": {},
     "output_type": "execute_result"
    },
    {
     "data": {
      "image/png": "[encoded data removed]",
      "text/plain": [
       "<Figure size 576x504 with 1 Axes>"
      ]
     },
     "metadata": {
      "needs_background": "light"
     },
     "output_type": "display_data"
    }
   ],
   "source": [
    "#rfm_df['RFM_Level'].value_counts().head(10).plot(kind='bar',figsize=(12,10),colormap='copper_r')\n",
    "\n",
    "colors = ['#5cb85c','#5bc0de','#1e90ff','#e06666','#bdb76b','#4169e1','#aec6cf','#21abcd','#bcb88a','#d1e231']\n",
    "ax=rfm_df['RFM_Level'].value_counts().head(10).plot(kind='bar', color=colors,figsize=(8,7),fontsize=13)\n",
    "ax.set_alpha(0.8)\n",
    "ax.set_title(\"Proportion of Customers with RFM_Level\", fontsize=18)\n",
    "ax.set_ylabel(\"Number of Customers\", fontsize=18);\n",
    "ax.set_xlabel(\"RFM Level\", fontsize=18);\n",
    "# create a list to collect the plt.patches data\n",
    "totals = []\n",
    "# find the values and append to list\n",
    "for i in ax.patches:\n",
    "    totals.append(i.get_height())\n",
    "# set individual bar lables using above list\n",
    "total = sum(totals)\n",
    "# set individual bar lables using above list\n",
    "for i in ax.patches:\n",
    "    # get_x pulls left or right; get_height pushes up or down\n",
    "    ax.text(i.get_x()+0.2, i.get_height()+0.05, \\\n",
    "            str(round(i.get_height(), 2)), fontsize=15,\n",
    "                color='dimgrey')\n",
    "#plt.xticks(rotation =30,fontsize =12)\n",
    "plt.yticks(rotation =30,fontsize =12)  \n",
    "plt.savefig(\"Proportion of Customers with RFM_Level.jpg\")"
   ]
  },
  {
   "cell_type": "code",
   "execution_count": 32,
   "metadata": {},
   "outputs": [
    {
     "data": {
      "text/html": [
       "<div>\n",
       "<style scoped>\n",
       "    .dataframe tbody tr th:only-of-type {\n",
       "        vertical-align: middle;\n",
       "    }\n",
       "\n",
       "    .dataframe tbody tr th {\n",
       "        vertical-align: top;\n",
       "    }\n",
       "\n",
       "    .dataframe thead tr th {\n",
       "        text-align: left;\n",
       "    }\n",
       "\n",
       "    .dataframe thead tr:last-of-type th {\n",
       "        text-align: right;\n",
       "    }\n",
       "</style>\n",
       "<table border=\"1\" class=\"dataframe\">\n",
       "  <thead>\n",
       "    <tr>\n",
       "      <th></th>\n",
       "      <th>Recency</th>\n",
       "      <th>Frequency</th>\n",
       "      <th colspan=\"2\" halign=\"left\">Monetary</th>\n",
       "    </tr>\n",
       "    <tr>\n",
       "      <th></th>\n",
       "      <th>mean</th>\n",
       "      <th>mean</th>\n",
       "      <th>mean</th>\n",
       "      <th>count</th>\n",
       "    </tr>\n",
       "    <tr>\n",
       "      <th>RFM_Level</th>\n",
       "      <th></th>\n",
       "      <th></th>\n",
       "      <th></th>\n",
       "      <th></th>\n",
       "    </tr>\n",
       "  </thead>\n",
       "  <tbody>\n",
       "    <tr>\n",
       "      <th>Can't Loose Them</th>\n",
       "      <td>134.5</td>\n",
       "      <td>1.0</td>\n",
       "      <td>780.7</td>\n",
       "      <td>4367</td>\n",
       "    </tr>\n",
       "    <tr>\n",
       "      <th>Champions</th>\n",
       "      <td>128.2</td>\n",
       "      <td>1.5</td>\n",
       "      <td>1186.9</td>\n",
       "      <td>1060</td>\n",
       "    </tr>\n",
       "    <tr>\n",
       "      <th>Loyal</th>\n",
       "      <td>144.9</td>\n",
       "      <td>2.0</td>\n",
       "      <td>1685.1</td>\n",
       "      <td>1009</td>\n",
       "    </tr>\n",
       "    <tr>\n",
       "      <th>Needs Attention</th>\n",
       "      <td>44.6</td>\n",
       "      <td>4.2</td>\n",
       "      <td>3044.4</td>\n",
       "      <td>500</td>\n",
       "    </tr>\n",
       "    <tr>\n",
       "      <th>Potential</th>\n",
       "      <td>141.2</td>\n",
       "      <td>2.9</td>\n",
       "      <td>2494.8</td>\n",
       "      <td>1196</td>\n",
       "    </tr>\n",
       "    <tr>\n",
       "      <th>Promising</th>\n",
       "      <td>95.3</td>\n",
       "      <td>3.8</td>\n",
       "      <td>3221.1</td>\n",
       "      <td>926</td>\n",
       "    </tr>\n",
       "    <tr>\n",
       "      <th>Require Activation</th>\n",
       "      <td>21.0</td>\n",
       "      <td>5.3</td>\n",
       "      <td>3806.4</td>\n",
       "      <td>347</td>\n",
       "    </tr>\n",
       "  </tbody>\n",
       "</table>\n",
       "</div>"
      ],
      "text/plain": [
       "                   Recency Frequency Monetary      \n",
       "                      mean      mean     mean count\n",
       "RFM_Level                                          \n",
       "Can't Loose Them     134.5       1.0    780.7  4367\n",
       "Champions            128.2       1.5   1186.9  1060\n",
       "Loyal                144.9       2.0   1685.1  1009\n",
       "Needs Attention       44.6       4.2   3044.4   500\n",
       "Potential            141.2       2.9   2494.8  1196\n",
       "Promising             95.3       3.8   3221.1   926\n",
       "Require Activation    21.0       5.3   3806.4   347"
      ]
     },
     "execution_count": 32,
     "metadata": {},
     "output_type": "execute_result"
    }
   ],
   "source": [
    "# Calculate average values for each RFM_Level, and return a size of each segment \n",
    "cust_seg_agg = rfm_df.groupby('RFM_Level').agg({\n",
    "    'Recency': 'mean',\n",
    "    'Frequency': 'mean',\n",
    "    'Monetary': ['mean', 'count',]\n",
    "}).round(1)\n",
    "# Print the aggregated dataset\n",
    "cust_seg_agg"
   ]
  },
  {
   "cell_type": "markdown",
   "metadata": {},
   "source": [
    "### Recommendation:\n",
    "\n",
    "* Potential: High potential to enter our loyal customer segments, why not throw in some offers/Coupons on their next purchase to show that you value them!\n",
    "\n",
    "* Promising: Showing promising signs with quantity and value of their purchase but it has been a while since they last bought sometime from you. Let’s target them with their wishlist items and a limited time offer discount/Coupons.\n",
    "\n",
    "* Needs Attention: made some initial purchase but have not seen them since. Was it a bad customer experience? Or product-market fit? Let’s spend some resource build our brand awareness with them.\n",
    "\n",
    "* Require Activation: Poorest performers of our RFM model. They might have went with our competitors for now and will require a different activation strategy to win them back."
   ]
  },
  {
   "cell_type": "code",
   "execution_count": 33,
   "metadata": {},
   "outputs": [
    {
     "data": {
      "text/plain": [
       "<AxesSubplot:>"
      ]
     },
     "execution_count": 33,
     "metadata": {},
     "output_type": "execute_result"
    },
    {
     "data": {
      "text/plain": [
       "Text(0.5, 1.0, 'Segments')"
      ]
     },
     "execution_count": 33,
     "metadata": {},
     "output_type": "execute_result"
    },
    {
     "data": {
      "text/plain": [
       "(0.0, 100.0, 0.0, 100.0)"
      ]
     },
     "execution_count": 33,
     "metadata": {},
     "output_type": "execute_result"
    },
    {
     "data": {
      "image/png": "[encoded data removed]",
      "text/plain": [
       "<Figure size 1152x648 with 1 Axes>"
      ]
     },
     "metadata": {
      "needs_background": "light"
     },
     "output_type": "display_data"
    }
   ],
   "source": [
    "cust_seg_agg.columns = cust_seg_agg.columns#.droplevel()\n",
    "cust_seg_agg.columns = ['RecencyMean','FrequencyMean','MonetaryMean', 'Count']\n",
    "#Create our plot and resize it.\n",
    "fig = plt.gcf()\n",
    "ax = fig.add_subplot()\n",
    "fig.set_size_inches(16, 9)\n",
    "squarify.plot(sizes=cust_seg_agg['Count'], \n",
    "              label=['Can\\'t Loose Them',\n",
    "                     'Champions',\n",
    "                     'Loyal',\n",
    "                     'Needs Attention',\n",
    "                     'Potential', \n",
    "                     'Promising', \n",
    "                     'Require Activation'], alpha=.6 )\n",
    "plt.title(\"Segments\",fontsize=18,fontweight=\"bold\")\n",
    "plt.axis('off')\n",
    "plt.show()"
   ]
  },
  {
   "cell_type": "markdown",
   "metadata": {},
   "source": [
    "###  Thank You"
   ]
  }
 ],
 "metadata": {
  "kernelspec": {
   "display_name": "Python 3 (ipykernel)",
   "language": "python",
   "name": "python3"
  },
  "language_info": {
   "codemirror_mode": {
    "name": "ipython",
    "version": 3
   },
   "file_extension": ".py",
   "mimetype": "text/x-python",
   "name": "python",
   "nbconvert_exporter": "python",
   "pygments_lexer": "ipython3",
   "version": "3.11.9"
  }
 },
 "nbformat": 4,
 "nbformat_minor": 4
}
